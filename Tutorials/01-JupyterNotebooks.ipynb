{
 "cells": [
  {
   "cell_type": "markdown",
   "metadata": {},
   "source": [
    "# Jupyter Notebooks\n",
    "\n",
    "This is a quick introduction to Jupyter notebooks."
   ]
  },
  {
   "cell_type": "markdown",
   "metadata": {},
   "source": [
    "<div class=\"alert alert-success\">\n",
    "Jupyter notebooks are a way to combine executable code, code outputs, and text into one connected file.\n",
    "</div>\n",
    "\n",
    "<div class=\"alert alert-info\">\n",
    "The official documentation from project Jupyter is available \n",
    "<a href=https://jupyter-notebook.readthedocs.io/en/stable/>here</a>\n",
    "and they also have some example notebooks \n",
    "<a href=https://github.com/jupyter/notebook/tree/master/docs/source/examples/Notebook>here</a>\n",
    ".\n",
    "</div>"
   ]
  },
  {
   "cell_type": "markdown",
   "metadata": {},
   "source": [
    "## Menu Options & Shortcuts\n",
    "\n",
    "To get a quick tour of the Jupyter user-interface, click on the 'Help' menu, then click 'User Interface Tour'.\n",
    "\n",
    "There are also a large number of useful keyboard shortcuts. Click on the 'Help' menu, and then 'Keyboard Shortcuts' to see a list. "
   ]
  },
  {
   "cell_type": "markdown",
   "metadata": {},
   "source": [
    "## Cells"
   ]
  },
  {
   "cell_type": "markdown",
   "metadata": {},
   "source": [
    "<div class=\"alert alert-success\">\n",
    "The main organizational structure of the notebook are 'cells'.\n",
    "</div>"
   ]
  },
  {
   "cell_type": "markdown",
   "metadata": {},
   "source": [
    "Cells, can be markdown (text), like this one."
   ]
  },
  {
   "cell_type": "code",
   "execution_count": 1,
   "metadata": {
    "collapsed": true
   },
   "outputs": [],
   "source": [
    "# Cell can also be code. Here, we are using a Python notebook.\n",
    "a = 1\n",
    "b = 2"
   ]
  },
  {
   "cell_type": "code",
   "execution_count": 2,
   "metadata": {},
   "outputs": [
    {
     "name": "stdout",
     "output_type": "stream",
     "text": [
      "3\n"
     ]
    }
   ],
   "source": [
    "# Cells can also have output, that gets printed out below the cell.\n",
    "print(a + b)"
   ]
  },
  {
   "cell_type": "markdown",
   "metadata": {},
   "source": [
    "## Accessing Documentation"
   ]
  },
  {
   "cell_type": "markdown",
   "metadata": {},
   "source": [
    "<div class=\"alert alert-success\">\n",
    "Jupyter has useful shortcuts. Add a single '?' after a function or class get a window with the documentation, or a double '??' to pull up the source code. \n",
    "</div>"
   ]
  },
  {
   "cell_type": "code",
   "execution_count": 3,
   "metadata": {
    "collapsed": true
   },
   "outputs": [],
   "source": [
    "# Import numpy for examples\n",
    "import numpy as np"
   ]
  },
  {
   "cell_type": "code",
   "execution_count": 4,
   "metadata": {
    "collapsed": true
   },
   "outputs": [],
   "source": [
    "# Check the docs for a numpy array\n",
    "np.array?"
   ]
  },
  {
   "cell_type": "code",
   "execution_count": 5,
   "metadata": {
    "collapsed": true
   },
   "outputs": [],
   "source": [
    "# Check the full source code for numpy append function\n",
    "np.append??"
   ]
  },
  {
   "cell_type": "markdown",
   "metadata": {},
   "source": [
    "## Autocomplete"
   ]
  },
  {
   "cell_type": "markdown",
   "metadata": {},
   "source": [
    "<div class=\"alert alert-success\">\n",
    "Jupyter also has \n",
    "<a href=https://en.wikipedia.org/wiki/Command-line_completion>tab complete</a>\n",
    "capacities, which can autocomplete what you are typing, and/or be used to explore what code is available.  \n",
    "</div>"
   ]
  },
  {
   "cell_type": "code",
   "execution_count": null,
   "metadata": {},
   "outputs": [],
   "source": [
    "# Move your cursor just after the period, press tab, and a drop menu will appear showing all possible completions\n",
    "np."
   ]
  },
  {
   "cell_type": "code",
   "execution_count": null,
   "metadata": {},
   "outputs": [],
   "source": [
    "# Autocomplete does not have to be at a period. Move to the end of 'ra' and hit tab to see completion options. \n",
    "ra"
   ]
  },
  {
   "cell_type": "code",
   "execution_count": null,
   "metadata": {
    "collapsed": true
   },
   "outputs": [],
   "source": [
    "# If there is only one option, tab-complete will auto-complete what you are typing\n",
    "ran"
   ]
  },
  {
   "cell_type": "markdown",
   "metadata": {},
   "source": [
    "## Kernel & Namespace\n",
    "\n",
    "You do not need to run cells in order! This is useful for flexibly testing and developing code. \n",
    "\n",
    "The numbers in the square brackets to the left of a cell show which cells have been run, and in what order.\n",
    "\n",
    "However, it can also be easy to lose track of what has already been declared / imported, leading to unexpected behaviour from running cells.\n",
    "\n",
    "The kernel is what connects the notebook to your computer behind-the-scenes to execute the code. \n",
    "\n",
    "It can be useful to clear and re-launch the kernel. You can do this from the 'kernel' drop down menu, at the top, optionally also clearing all ouputs."
   ]
  },
  {
   "cell_type": "markdown",
   "metadata": {},
   "source": [
    "## Magic Commands"
   ]
  },
  {
   "cell_type": "markdown",
   "metadata": {},
   "source": [
    "<div class=\"alert alert-success\">\n",
    "'Magic Commands' are a special (command-line like) syntax in IPython/Jupyter to run special functionality. They can run on lines and/or entire cells. \n",
    "</div>\n",
    "\n",
    "<div class=\"alert alert-info\">\n",
    "Details on Magic Commands: http://ipython.readthedocs.io/en/stable/interactive/magics.html\n",
    "</div>"
   ]
  },
  {
   "cell_type": "code",
   "execution_count": 6,
   "metadata": {},
   "outputs": [
    {
     "data": {
      "application/json": {
       "cell": {
        "!": "OSMagics",
        "HTML": "Other",
        "SVG": "Other",
        "bash": "Other",
        "capture": "ExecutionMagics",
        "debug": "ExecutionMagics",
        "file": "Other",
        "html": "DisplayMagics",
        "javascript": "DisplayMagics",
        "js": "DisplayMagics",
        "latex": "DisplayMagics",
        "markdown": "DisplayMagics",
        "perl": "Other",
        "prun": "ExecutionMagics",
        "pypy": "Other",
        "python": "Other",
        "python2": "Other",
        "python3": "Other",
        "ruby": "Other",
        "script": "ScriptMagics",
        "sh": "Other",
        "svg": "DisplayMagics",
        "sx": "OSMagics",
        "system": "OSMagics",
        "time": "ExecutionMagics",
        "timeit": "ExecutionMagics",
        "writefile": "OSMagics"
       },
       "line": {
        "alias": "OSMagics",
        "alias_magic": "BasicMagics",
        "autocall": "AutoMagics",
        "automagic": "AutoMagics",
        "autosave": "KernelMagics",
        "bookmark": "OSMagics",
        "cat": "Other",
        "cd": "OSMagics",
        "clear": "KernelMagics",
        "colors": "BasicMagics",
        "config": "ConfigMagics",
        "connect_info": "KernelMagics",
        "cp": "Other",
        "debug": "ExecutionMagics",
        "dhist": "OSMagics",
        "dirs": "OSMagics",
        "doctest_mode": "BasicMagics",
        "ed": "Other",
        "edit": "KernelMagics",
        "env": "OSMagics",
        "gui": "BasicMagics",
        "hist": "Other",
        "history": "HistoryMagics",
        "killbgscripts": "ScriptMagics",
        "ldir": "Other",
        "less": "KernelMagics",
        "lf": "Other",
        "lk": "Other",
        "ll": "Other",
        "load": "CodeMagics",
        "load_ext": "ExtensionMagics",
        "loadpy": "CodeMagics",
        "logoff": "LoggingMagics",
        "logon": "LoggingMagics",
        "logstart": "LoggingMagics",
        "logstate": "LoggingMagics",
        "logstop": "LoggingMagics",
        "ls": "Other",
        "lsmagic": "BasicMagics",
        "lx": "Other",
        "macro": "ExecutionMagics",
        "magic": "BasicMagics",
        "man": "KernelMagics",
        "matplotlib": "PylabMagics",
        "mkdir": "Other",
        "more": "KernelMagics",
        "mv": "Other",
        "notebook": "BasicMagics",
        "page": "BasicMagics",
        "pastebin": "CodeMagics",
        "pdb": "ExecutionMagics",
        "pdef": "NamespaceMagics",
        "pdoc": "NamespaceMagics",
        "pfile": "NamespaceMagics",
        "pinfo": "NamespaceMagics",
        "pinfo2": "NamespaceMagics",
        "pip": "BasicMagics",
        "popd": "OSMagics",
        "pprint": "BasicMagics",
        "precision": "BasicMagics",
        "profile": "BasicMagics",
        "prun": "ExecutionMagics",
        "psearch": "NamespaceMagics",
        "psource": "NamespaceMagics",
        "pushd": "OSMagics",
        "pwd": "OSMagics",
        "pycat": "OSMagics",
        "pylab": "PylabMagics",
        "qtconsole": "KernelMagics",
        "quickref": "BasicMagics",
        "recall": "HistoryMagics",
        "rehashx": "OSMagics",
        "reload_ext": "ExtensionMagics",
        "rep": "Other",
        "rerun": "HistoryMagics",
        "reset": "NamespaceMagics",
        "reset_selective": "NamespaceMagics",
        "rm": "Other",
        "rmdir": "Other",
        "run": "ExecutionMagics",
        "save": "CodeMagics",
        "sc": "OSMagics",
        "set_env": "OSMagics",
        "store": "StoreMagics",
        "sx": "OSMagics",
        "system": "OSMagics",
        "tb": "ExecutionMagics",
        "time": "ExecutionMagics",
        "timeit": "ExecutionMagics",
        "unalias": "OSMagics",
        "unload_ext": "ExtensionMagics",
        "who": "NamespaceMagics",
        "who_ls": "NamespaceMagics",
        "whos": "NamespaceMagics",
        "xdel": "NamespaceMagics",
        "xmode": "BasicMagics"
       }
      },
      "text/plain": [
       "Available line magics:\n",
       "%alias  %alias_magic  %autocall  %automagic  %autosave  %bookmark  %cat  %cd  %clear  %colors  %config  %connect_info  %cp  %debug  %dhist  %dirs  %doctest_mode  %ed  %edit  %env  %gui  %hist  %history  %killbgscripts  %ldir  %less  %lf  %lk  %ll  %load  %load_ext  %loadpy  %logoff  %logon  %logstart  %logstate  %logstop  %ls  %lsmagic  %lx  %macro  %magic  %man  %matplotlib  %mkdir  %more  %mv  %notebook  %page  %pastebin  %pdb  %pdef  %pdoc  %pfile  %pinfo  %pinfo2  %popd  %pprint  %precision  %profile  %prun  %psearch  %psource  %pushd  %pwd  %pycat  %pylab  %qtconsole  %quickref  %recall  %rehashx  %reload_ext  %rep  %rerun  %reset  %reset_selective  %rm  %rmdir  %run  %save  %sc  %set_env  %store  %sx  %system  %tb  %time  %timeit  %unalias  %unload_ext  %who  %who_ls  %whos  %xdel  %xmode\n",
       "\n",
       "Available cell magics:\n",
       "%%!  %%HTML  %%SVG  %%bash  %%capture  %%debug  %%file  %%html  %%javascript  %%js  %%latex  %%markdown  %%perl  %%prun  %%pypy  %%python  %%python2  %%python3  %%ruby  %%script  %%sh  %%svg  %%sx  %%system  %%time  %%timeit  %%writefile\n",
       "\n",
       "Automagic is ON, % prefix IS NOT needed for line magics."
      ]
     },
     "execution_count": 6,
     "metadata": {},
     "output_type": "execute_result"
    }
   ],
   "source": [
    "# You can check a list of available magic commands\n",
    "%lsmagic"
   ]
  },
  {
   "cell_type": "markdown",
   "metadata": {},
   "source": [
    "### Line Magics\n",
    "\n",
    "\n",
    "Line magics use a single '%', and apply to a single line. "
   ]
  },
  {
   "cell_type": "code",
   "execution_count": 7,
   "metadata": {},
   "outputs": [
    {
     "name": "stdout",
     "output_type": "stream",
     "text": [
      "1.53 ms ± 78.2 µs per loop (mean ± std. dev. of 7 runs, 1000 loops each)\n"
     ]
    }
   ],
   "source": [
    "# For example, we can time how long it takes to create a large list\n",
    "%timeit list(range(100000))"
   ]
  },
  {
   "cell_type": "markdown",
   "metadata": {},
   "source": [
    "### Cell Magics\n",
    "\n",
    "Cell magics use a double '%%', and apply to the whole cell. "
   ]
  },
  {
   "cell_type": "code",
   "execution_count": 8,
   "metadata": {},
   "outputs": [
    {
     "name": "stdout",
     "output_type": "stream",
     "text": [
      "6 ms ± 222 µs per loop (mean ± std. dev. of 7 runs, 100 loops each)\n"
     ]
    }
   ],
   "source": [
    "%%timeit\n",
    "# For example, we could time a whole cell\n",
    "a = list(range(100000))\n",
    "b = [n + 1 for n in a]"
   ]
  },
  {
   "cell_type": "markdown",
   "metadata": {},
   "source": [
    "### Running terminal commands\n",
    "\n",
    "Another nice thing about notebooks is being able to run terminals commands"
   ]
  },
  {
   "cell_type": "code",
   "execution_count": 9,
   "metadata": {},
   "outputs": [
    {
     "name": "stdout",
     "output_type": "stream",
     "text": [
      "/Users/tom/Documents/Teaching/COGS108/Code/Tutorials\r\n"
     ]
    }
   ],
   "source": [
    "# You can run a terminal command by adding '!' to the start of the line\n",
    "!pwd\n",
    "\n",
    "# Note that in this case, '!pwd' is equivalent to line magic '%pwd'. \n",
    "# The '!' syntax is more general though, allowing you to run anything you want through command-line "
   ]
  },
  {
   "cell_type": "code",
   "execution_count": 10,
   "metadata": {},
   "outputs": [
    {
     "name": "stdout",
     "output_type": "stream",
     "text": [
      "/Users/tom/Documents/Teaching/COGS108/Code/Tutorials\n"
     ]
    }
   ],
   "source": [
    "%%bash\n",
    "# Equivalently, (for bash) use the %%bash cell magic to run a cell as bash (command-line)\n",
    "pwd"
   ]
  },
  {
   "cell_type": "code",
   "execution_count": 11,
   "metadata": {
    "scrolled": false
   },
   "outputs": [
    {
     "name": "stdout",
     "output_type": "stream",
     "text": [
      "# packages in environment at /Users/tom/anaconda/envs/py36:\n",
      "#\n",
      "alabaster                 0.7.10           py36h174008c_0  \n",
      "anaconda                  5.0.1            py36h6e48e2d_1  \n",
      "anaconda-client           1.6.5            py36h04cfe59_0  \n",
      "anaconda-navigator        1.6.9            py36ha31b149_0  \n",
      "anaconda-project          0.8.0            py36h99320b2_0  \n",
      "appnope                   0.1.0            py36hf537a9a_0  \n",
      "appscript                 1.0.1            py36h9e71e49_1  \n",
      "asn1crypto                0.22.0           py36hb705621_1  \n",
      "astroid                   1.5.3            py36h1333018_0  \n",
      "astropy                   2.0.2            py36hf79c81d_4  \n",
      "babel                     2.5.0            py36h9f161ff_0  \n",
      "backports                 1.0              py36ha3c1827_1  \n",
      "backports.shutil_get_terminal_size 1.0.0            py36hd7a2ee4_2  \n",
      "beautifulsoup4            4.6.0            py36h72d3c9f_1  \n",
      "bitarray                  0.8.1            py36h20fa61d_0  \n",
      "bkcharts                  0.2              py36h073222e_0  \n",
      "blaze                     0.11.3           py36h02e7a37_0  \n",
      "bleach                    2.0.0            py36h8fcea71_0  \n",
      "bokeh                     0.12.10          py36hfd5be35_0  \n",
      "boto                      2.48.0           py36hdbc59ac_1  \n",
      "bottleneck                1.2.1            py36hbd380ad_0  \n",
      "bzip2                     1.0.6                h92991f9_1  \n",
      "ca-certificates           2017.08.26           ha1e5d58_0  \n",
      "certifi                   2017.7.27.1      py36hd973bb6_0  \n",
      "cffi                      1.10.0           py36h880867e_1  \n",
      "chardet                   3.0.4            py36h96c241c_1  \n",
      "click                     6.7              py36hec950be_0  \n",
      "cloudpickle               0.4.0            py36h13b7e56_0  \n",
      "clyent                    1.2.2            py36hae3ad88_0  \n",
      "colorama                  0.3.9            py36hd29a30c_0  \n",
      "contextlib2               0.5.5            py36hd66e5e7_0  \n",
      "cryptography              2.0.3            py36h22d4226_1  \n",
      "curl                      7.55.1               h7601780_3  \n",
      "cycler                    0.10.0           py36hfc81398_0  \n",
      "cython                    0.26.1           py36hd51f8eb_0  \n",
      "cytoolz                   0.8.2            py36h290905f_0  \n",
      "dask                      0.15.3           py36hc3ad2d6_0  \n",
      "dask-core                 0.15.3           py36hc0be6b7_0  \n",
      "datashape                 0.5.4            py36hfb22df8_0  \n",
      "dbus                      1.10.22              h50d9ad6_0  \n",
      "decorator                 4.1.2            py36h69a1b52_0  \n",
      "distributed               1.19.1           py36h4ae75d2_0  \n",
      "docutils                  0.14             py36hbfde631_0  \n",
      "entrypoints               0.2.3            py36hd81d71f_2  \n",
      "et_xmlfile                1.0.1            py36h1315bdc_0  \n",
      "expat                     2.2.4                h8f26bf8_1  \n",
      "fastcache                 1.0.2            py36h8606a76_0  \n",
      "filelock                  2.0.12           py36h0d0b4fb_0  \n",
      "flask                     0.12.2           py36h5658096_0  \n",
      "flask-cors                3.0.3            py36h7387b97_0  \n",
      "freetype                  2.8                  h143eb01_0  \n",
      "get_terminal_size         1.0.0                h7520d66_0  \n",
      "gettext                   0.19.8.1             hb0f4f8b_2  \n",
      "gevent                    1.2.2            py36ha70b9d6_0  \n",
      "glib                      2.53.6               ha08cb78_1  \n",
      "glob2                     0.5              py36h12393a9_0  \n",
      "gmp                       6.1.2                h4a9834d_0  \n",
      "gmpy2                     2.0.8            py36h7ef02cb_1  \n",
      "greenlet                  0.4.12           py36hf09ba7b_0  \n",
      "h5py                      2.7.0            py36h6400cee_1  \n",
      "hdf5                      1.10.1               h6090a45_0  \n",
      "heapdict                  1.0.0            py36h27a9ac6_0  \n",
      "html5lib                  0.999999999      py36h79312fd_0  \n",
      "icu                       58.2                 hea21ae5_0  \n",
      "idna                      2.6              py36h8628d0a_1  \n",
      "imageio                   2.2.0            py36h5e01289_0  \n",
      "imagesize                 0.7.1            py36h3495948_0  \n",
      "intel-openmp              2018.0.0             h68bdfb3_7  \n",
      "ipykernel                 4.6.1            py36h3208c25_0  \n",
      "ipython                   6.1.0            py36hf612aae_1  \n",
      "ipython_genutils          0.2.0            py36h241746c_0  \n",
      "ipywidgets                7.0.0            py36h24d3910_0  \n",
      "isort                     4.2.15           py36hceb2a01_0  \n",
      "itsdangerous              0.24             py36h49fbb8d_1  \n",
      "jbig                      2.1                  h4d881f8_0  \n",
      "jdcal                     1.3              py36h1986823_0  \n",
      "jedi                      0.10.2           py36h6325097_0  \n",
      "jinja2                    2.9.6            py36hde4beb4_1  \n",
      "jpeg                      9b                   haccd157_1  \n",
      "jsonschema                2.6.0            py36hb385e00_0  \n",
      "jupyter                   1.0.0            py36h598a6cc_0  \n",
      "jupyter_client            5.1.0            py36hf6c435f_0  \n",
      "jupyter_console           5.2.0            py36hccf5b1c_1  \n",
      "jupyter_core              4.3.0            py36h93810fe_0  \n",
      "jupyterlab                0.27.0           py36hd3092eb_2  \n",
      "jupyterlab_launcher       0.4.0            py36h93e02e9_0  \n",
      "lazy-object-proxy         1.3.1            py36h2fbbe47_0  \n",
      "libcxx                    4.0.1                h579ed51_0  \n",
      "libcxxabi                 4.0.1                hebd6815_0  \n",
      "libedit                   3.1                  hb4e282d_0  \n",
      "libffi                    3.2.1                hd939716_3  \n",
      "libgfortran               3.0.1                h93005f0_2  \n",
      "libiconv                  1.15                 h99df5da_5  \n",
      "libpng                    1.6.32               hce72d48_2  \n",
      "libsodium                 1.0.13               hba5e272_2  \n",
      "libssh2                   1.8.0                h1218725_2  \n",
      "libtiff                   4.0.8                h8cd0352_9  \n",
      "libxml2                   2.9.4                hbd0960b_5  \n",
      "libxslt                   1.1.29               h95a2935_5  \n",
      "llvmlite                  0.20.0                   py36_0  \n",
      "locket                    0.2.0            py36hca03003_1  \n",
      "lxml                      4.1.0            py36h8179fc0_0  \n",
      "lzo                       2.10                 hb6b8854_1  \n",
      "markupsafe                1.0              py36h3a1e703_1  \n",
      "matplotlib                2.1.0            py36h5068139_0  \n",
      "mccabe                    0.6.1            py36hdaeb55d_0  \n",
      "mistune                   0.7.4            py36hccd6237_0  \n",
      "mkl                       2018.0.0             h5ef208c_6  \n",
      "mkl-service               1.1.2            py36h7ea6df4_4  \n",
      "mpc                       1.0.3                hc455b36_4  \n",
      "mpfr                      3.1.5                h7fa3772_1  \n",
      "mpmath                    0.19             py36h9185fea_2  \n",
      "msgpack-python            0.4.8            py36h46767b2_0  \n",
      "multipledispatch          0.4.9            py36hc5f92b5_0  \n",
      "navigator-updater         0.1.0            py36h7aee5fb_0  \n",
      "nbconvert                 5.3.1            py36h810822e_0  \n",
      "nbformat                  4.4.0            py36h827af21_0  \n",
      "ncurses                   6.0                  ha932d30_1  \n",
      "networkx                  2.0              py36hefccab9_0  \n",
      "nltk                      3.2.4            py36h27d1ea0_0  \n",
      "nose                      1.3.7            py36h73fae2b_2  \n",
      "notebook                  5.0.0            py36h462289e_2  \n",
      "numba                     0.35.0              np113py36_6  \n",
      "numexpr                   2.6.2            py36h0f4f1da_1  \n",
      "numpy                     1.13.3           py36h2cdce51_0  \n",
      "numpydoc                  0.7.0            py36he54d08e_0  \n",
      "odo                       0.5.1            py36hc1af34a_0  \n",
      "olefile                   0.44             py36ha08bf50_0  \n",
      "openpyxl                  2.4.8            py36he899640_1  \n",
      "openssl                   1.0.2l               h57f3a61_2  \n",
      "packaging                 16.8             py36he5e8135_0  \n",
      "pandas                    0.20.3           py36hd6655d8_2  \n",
      "pandoc                    1.19.2.1             ha5e8f32_1  \n",
      "pandocfilters             1.4.2            py36h3b0b094_1  \n",
      "partd                     0.3.8            py36hf5c4cb8_0  \n",
      "path.py                   10.3.1           py36hd33c240_0  \n",
      "pathlib2                  2.3.0            py36h877a6d8_0  \n",
      "patsy                     0.4.1            py36ha1b3fa5_0  \n",
      "pcre                      8.41                 h29eefc5_0  \n",
      "pep8                      1.7.0            py36hc268eb1_0  \n",
      "pexpect                   4.2.1            py36h3eac828_0  \n",
      "pickleshare               0.7.4            py36hf512f8e_0  \n",
      "pillow                    4.2.1            py36h0263179_0  \n",
      "pip                       9.0.1            py36hbd95645_3  \n",
      "pkginfo                   1.4.1            py36h25bf955_0  \n",
      "ply                       3.10             py36h10e714e_0  \n",
      "prompt_toolkit            1.0.15           py36haeda067_0  \n",
      "psutil                    5.4.0            py36ha052210_0  \n",
      "ptyprocess                0.5.2            py36he6521c3_0  \n",
      "py                        1.4.34           py36hecf431b_1  \n",
      "pycodestyle               2.3.1            py36h83e8646_0  \n",
      "pycosat                   0.6.2            py36h1486600_0  \n",
      "pycparser                 2.18             py36h724b2fc_1  \n",
      "pycrypto                  2.6.1            py36h72f2894_1  \n",
      "pycurl                    7.43.0           py36hdb90038_3  \n",
      "pyflakes                  1.6.0            py36hea45e83_0  \n",
      "pygments                  2.2.0            py36h240cd3f_0  \n",
      "pylint                    1.7.4            py36hdee9077_0  \n",
      "pyodbc                    4.0.17           py36h5478161_0  \n",
      "pyopenssl                 17.2.0           py36h5d7bf08_0  \n",
      "pyparsing                 2.2.0            py36hb281f35_0  \n",
      "pyqt                      5.6.0            py36he5c6137_6  \n",
      "pysocks                   1.6.7            py36hfa33cec_1  \n",
      "pytables                  3.4.2            py36hfbd7ab0_2  \n",
      "pytest                    3.2.1            py36h9963153_1  \n",
      "python                    3.6.3                h6804ab2_0  \n",
      "python-dateutil           2.6.1            py36h86d2abb_1  \n",
      "python.app                2                py36h7fe2238_6  \n",
      "pytz                      2017.2           py36h2e7dfbc_1  \n",
      "pywavelets                0.5.2            py36h2710a04_0  \n",
      "pyyaml                    3.12             py36h2ba1e63_1  \n",
      "pyzmq                     16.0.2           py36h087ffad_2  \n",
      "qt                        5.6.2               h9975529_14  \n",
      "qtawesome                 0.4.4            py36h468c6fb_0  \n",
      "qtconsole                 4.3.1            py36hd96c0ff_0  \n",
      "qtpy                      1.3.1            py36h16bb863_0  \n",
      "readline                  7.0                  h81b24a6_3  \n",
      "requests                  2.18.4           py36h4516966_1  \n",
      "rope                      0.10.5           py36h5764ad1_0  \n",
      "ruamel_yaml               0.11.14          py36h9d7ade0_2  \n",
      "scikit-image              0.13.0           py36h398857d_1  \n",
      "scikit-learn              0.19.1           py36hffbff8c_0  \n",
      "scipy                     0.19.1           py36h3e758e1_3  \n",
      "seaborn                   0.8.0            py36h74df97e_0  \n",
      "setuptools                36.5.0           py36h2134326_0  \n",
      "simplegeneric             0.8.1            py36he5b5b09_0  \n",
      "singledispatch            3.4.0.3          py36hf20db9d_0  \n",
      "sip                       4.18.1           py36h2824476_2  \n",
      "six                       1.11.0           py36h0e22d5e_1  \n",
      "snowballstemmer           1.2.1            py36h6c7b616_0  \n",
      "sortedcollections         0.5.3            py36he9c3ed6_0  \n",
      "sortedcontainers          1.5.7            py36ha982688_0  \n",
      "sphinx                    1.6.3            py36hcd1b3e7_0  \n",
      "sphinxcontrib             1.0              py36h9364dc8_1  \n",
      "sphinxcontrib-websupport  1.0.1            py36h92f4a7a_1  \n",
      "spyder                    3.2.4            py36h908396f_0  \n",
      "sqlalchemy                1.1.13           py36h156b851_0  \n",
      "sqlite                    3.20.1               h900c3b0_1  \n",
      "statsmodels               0.8.0            py36h9c68fc9_0  \n",
      "sympy                     1.1.1            py36h7f3cf04_0  \n",
      "tblib                     1.3.2            py36hda67792_0  \n",
      "terminado                 0.6              py36h656782e_0  \n",
      "testpath                  0.3.1            py36h625a49b_0  \n",
      "tk                        8.6.7                hcdce994_1  \n",
      "toolz                     0.8.2            py36h7b95164_0  \n",
      "tornado                   4.5.2            py36h468dda9_0  \n",
      "traitlets                 4.3.2            py36h65bd3ce_0  \n",
      "typing                    3.6.2            py36haa2d9ef_0  \n",
      "unicodecsv                0.14.1           py36he531d66_0  \n",
      "unixodbc                  2.3.4                h4cb4dde_1  \n",
      "urllib3                   1.22             py36h68b9469_0  \n",
      "wcwidth                   0.1.7            py36h8c6ec74_0  \n",
      "webencodings              0.5.1            py36h3b9701d_1  \n",
      "werkzeug                  0.12.2           py36h168efa1_0  \n",
      "wheel                     0.29.0           py36h3597b6d_1  \n",
      "widgetsnbextension        3.0.2            py36h91f43ea_1  \n",
      "wrapt                     1.10.11          py36hc29e774_0  \n",
      "xlrd                      1.1.0            py36h336f4a2_1  \n",
      "xlsxwriter                1.0.2            py36h3736301_0  \n",
      "xlwings                   0.11.4           py36hc75f156_0  \n",
      "xlwt                      1.2.0            py36h5ad1178_0  \n",
      "xz                        5.2.3                ha24016e_1  \n",
      "yaml                      0.1.7                hff548bb_1  \n",
      "zeromq                    4.2.2                h131e0f7_1  \n",
      "zict                      0.1.3            py36h71da714_0  \n",
      "zlib                      1.2.11               h60db283_1  \n"
     ]
    }
   ],
   "source": [
    "# We can, for example, check which packages are available in our current environment\n",
    "!conda list"
   ]
  },
  {
   "cell_type": "code",
   "execution_count": 12,
   "metadata": {
    "collapsed": true
   },
   "outputs": [],
   "source": [
    "# It can be good to explore what anaconda actually offers.\n",
    "#  I hadn't heard of 'itsdangerous' before. Lets check out what is it\n",
    "import itsdangerous\n",
    "itsdangerous?"
   ]
  },
  {
   "cell_type": "code",
   "execution_count": 13,
   "metadata": {},
   "outputs": [
    {
     "data": {
      "text/plain": [
       "['BadData',\n",
       " 'BadHeader',\n",
       " 'BadPayload',\n",
       " 'BadSignature',\n",
       " 'BadTimeSignature',\n",
       " 'EPOCH',\n",
       " 'HMACAlgorithm',\n",
       " 'JSONWebSignatureSerializer',\n",
       " 'NoneAlgorithm',\n",
       " 'PY2',\n",
       " 'Serializer',\n",
       " 'SignatureExpired',\n",
       " 'Signer',\n",
       " 'SigningAlgorithm',\n",
       " 'TimedJSONWebSignatureSerializer',\n",
       " 'TimedSerializer',\n",
       " 'TimestampSigner',\n",
       " 'URLSafeSerializer',\n",
       " 'URLSafeSerializerMixin',\n",
       " 'URLSafeTimedSerializer',\n",
       " '_CompactJSON',\n",
       " '__builtins__',\n",
       " '__cached__',\n",
       " '__doc__',\n",
       " '__file__',\n",
       " '__loader__',\n",
       " '__name__',\n",
       " '__package__',\n",
       " '__spec__',\n",
       " '_builtin_constant_time_compare',\n",
       " 'base64',\n",
       " 'base64_decode',\n",
       " 'base64_encode',\n",
       " 'bytes_to_int',\n",
       " 'compact_json',\n",
       " 'constant_time_compare',\n",
       " 'datetime',\n",
       " 'hashlib',\n",
       " 'hmac',\n",
       " 'int_to_byte',\n",
       " 'int_to_bytes',\n",
       " 'is_text_serializer',\n",
       " 'izip',\n",
       " 'json',\n",
       " 'number_types',\n",
       " 'operator',\n",
       " 'reduce',\n",
       " 'sys',\n",
       " 'text_type',\n",
       " 'time',\n",
       " 'want_bytes',\n",
       " 'zlib']"
      ]
     },
     "execution_count": 13,
     "metadata": {},
     "output_type": "execute_result"
    }
   ],
   "source": [
    "# We can check what is available in the 'itsdangerous' module with the 'dir' function. \n",
    "dir(itsdangerous)"
   ]
  },
  {
   "cell_type": "markdown",
   "metadata": {},
   "source": [
    "<div class=\"alert alert-info\">\n",
    "For more useful information, check out Jupyter Notebooks \n",
    "<a href=https://www.dataquest.io/blog/jupyter-notebook-tips-tricks-shortcuts/>tips & tricks</a>\n",
    ", and more information on how \n",
    "<a href=http://jupyter.readthedocs.io/en/latest/architecture/how_jupyter_ipython_work.html>notebooks work</a>.\n",
    "</div>"
   ]
  }
 ],
 "metadata": {
  "kernelspec": {
   "display_name": "Python 3",
   "language": "python",
   "name": "python3"
  },
  "language_info": {
   "codemirror_mode": {
    "name": "ipython",
    "version": 3
   },
   "file_extension": ".py",
   "mimetype": "text/x-python",
   "name": "python",
   "nbconvert_exporter": "python",
   "pygments_lexer": "ipython3",
   "version": "3.6.3"
  }
 },
 "nbformat": 4,
 "nbformat_minor": 2
}
