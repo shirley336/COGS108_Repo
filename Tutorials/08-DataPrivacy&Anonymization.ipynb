{
 "cells": [
  {
   "cell_type": "markdown",
   "metadata": {
    "collapsed": true
   },
   "source": [
    "<h1><center> Data Privacy & Anonymization </h1></center>"
   ]
  },
  {
   "cell_type": "markdown",
   "metadata": {},
   "source": [
    "## Information Privacy\n",
    "<br>\n",
    "<div class=\"alert alert-success\">\n",
    "Information (or Data) Privacy refers to the legal, ethical, and practical issues of collecting, using and releasing data with identifiable information about people included in the dataset. It also deals with when and how to deal with data privacy issues, and how to protect users' privacy. \n",
    "</div>\n",
    "\n",
    "<div class=\"alert alert-info\">\n",
    "Wikipedia overview of information privacy: https://en.wikipedia.org/wiki/Information_privacy\n",
    "</div>"
   ]
  },
  {
   "cell_type": "markdown",
   "metadata": {},
   "source": [
    "## Anonymization\n",
    "<br>\n",
    "<div class=\"alert alert-success\">\n",
    "Data Anonymization is a type of information sanitization - that is the removal of sensitive information - for the purpose of privacy protection. This may include data encryption and/or the removal or personally identifiable information of data sets such that the people included in the dataset are anonymous. \n",
    "</div>\n",
    "\n",
    "<div class=\"alert alert-info\">\n",
    "Wikipedia overview of Data Anonymization: https://en.wikipedia.org/wiki/Data_anonymization\n",
    "</div>\n",
    "\n"
   ]
  },
  {
   "cell_type": "markdown",
   "metadata": {},
   "source": [
    "Data protection and anonymization are interdisciplinary components of data science and data practice, including everything from the considerations of ethics & legalities of data use, to the practical and technical challenges of protecting and anonymizing data. \n",
    "\n",
    "Anonymizing data typically comes down to removing any personally identifiable data from a dataset, or, if this information must be kept, separating the identifiable data from sensitive information. \n",
    "\n",
    "Part of the difficulty of data anonymization is that while we can provably demonstrate that a given dataset is anonymized, this rests on particular assumptions - most notably that the dataset is provable anonymized assuming no external information is used. \n",
    "\n",
    "In practice, de-anonymizing data is typically done by combining multiple datasets - using information from one or several available information sources to decode the individuals included in some other dataset. "
   ]
  },
  {
   "cell_type": "markdown",
   "metadata": {},
   "source": [
    "<h1><center> Regulations </h1></center>\n",
    "\n",
    "There are many official guidelines, rules and standards for data privacy and user identity protection, although much of it is case specific. At the minimum, what is legally required in terms of data protection depends, amongst other things, on what the data is / contains, who owns the data and in what capacity they are acting (company, university, etc.), what the data is to be used for, and user agreements / consent procedures that were in place when the data were collected. \n",
    "\n",
    "Much of these regulations apply more directly to the collection, storage, and release of datasets, but aspects also apply to the use of datasets, including publicly available datasets. Available datasets often have a user agreement for using the data, and, in particular, attempting to identify individuals from datasets may at a minimum break user agreements, and/or (depending on the nature of the data) be illegal based on consumer and research subject protection laws. "
   ]
  },
  {
   "cell_type": "markdown",
   "metadata": {},
   "source": [
    "## Research Standards\n",
    "<br>\n",
    "<div class=\"alert alert-success\">\n",
    "Data collected and used for research purposes has it's own set of guidelines and requirements regarding the treatment of human subjects, and the collection, storage, use, and dissemination of data. These regulations focus, among other things, on the right to self-determination of human subjects to consent to what data is collected, and how it is used. Data collected for research purposes must follow restrictions based on these consent procedures. \n",
    "</div>\n",
    "\n",
    "<div class=\"alert alert-info\">\n",
    "Research protections under the Declaration of Helsinki: https://en.wikipedia.org/wiki/Declaration_of_Helsinki\n",
    "</div>"
   ]
  },
  {
   "cell_type": "markdown",
   "metadata": {},
   "source": [
    "## HIPAA - Protection for Health Related Information\n",
    "<br>\n",
    "<div class=\"alert alert-success\">\n",
    "The Health Insurance Portability and Accountability Act (HIPAA) standardizes and protects individuals medical records and health related data.\n",
    "</div>\n",
    "\n",
    "<div class=\"alert alert-info\">\n",
    "Official US federal government HIPAA information: https://www.hhs.gov/hipaa/\n",
    "</div>"
   ]
  },
  {
   "cell_type": "markdown",
   "metadata": {},
   "source": [
    "## Safe Harbour Method\n",
    "<br>\n",
    "<div class=\"alert alert-success\">\n",
    "Safe Harbor is an official agreement regarding how to deal with datasets that have personal data, in particular, specific guidelines on what information to remove from datasets in order to anonymize them. It is a single set of data protection requirements shared across many contexts and countries. \n",
    "</div>\n",
    "\n",
    "<div class=\"alert alert-info\">\n",
    "Official documentation for Safe Harbour: https://www.hhs.gov/hipaa/for-professionals/privacy/special-topics/de-identification/\n",
    "</div>"
   ]
  },
  {
   "cell_type": "markdown",
   "metadata": {},
   "source": [
    "The Safe Harbor method requires that the following identifiers of the individual or of relatives, employers, or household members of the individual, are removed:\n",
    "- Names\n",
    "- Geographic Subdivisions smaller than a state**\n",
    "- Dates (such as birth dates, etc), and all ages above 90\n",
    "- Telephone Numbers\n",
    "- Vehicle Identification Numbers\n",
    "- Fax numbers\n",
    "- Device identifiers and serial numbers\n",
    "- Email addresses\n",
    "- Web Universal Resource Locators (URLs)\n",
    "- Social security numbers\n",
    "- Internet Protocol (IP) addresses\n",
    "- Medical record numbers\n",
    "- Biometric identifiers, including finger and voice prints\n",
    "- Health plan beneficiary numbers\n",
    "- Full-face photographs and any comparable images\n",
    "- Account numbers\n",
    "- Certificate/license numbers\n",
    "- Any other unique identifying number, characteristic, or code\n",
    "\n",
    "\n",
    "** The first three numbers of the zip code can be kept, provided that more than 20,000 people live in the region covered by all the zip codes that share the same initial three digits (the same geographic subdivision). "
   ]
  },
  {
   "cell_type": "markdown",
   "metadata": {},
   "source": [
    "### Unique Identifiers\n",
    "\n",
    "Much of the logic Safe Harbor (and/or Data Anonymization in general) is to remove any unique information that could be used to identify you. \n",
    "\n",
    "This is most obvious for things like names, but some of the seemingly weirder specifications of Safe Harbour also relate to this idea - so while it may be innocuous to talk about a 37 year old male who lives in Los Angeles, it might actually be quite obvious who the person is when talking about a 37 year old male who lives in Potrero, California, a town of about 700 people. This is the same reason ages above 90 have to be removed - even in a fairly large area, say San Diego, it may be fairly obvious who the 98 year old female participant is. \n",
    "\n",
    "Basically - any information that makes you stand out is liable to identify you, and so anonymization attempts to squash these idiosyncracies from data that needs to be anonymized.  This also underlies the difficulty in protecting data in the face of multiple data sources, since collecting observations together makes starts to pick out people more uniquely - so it may still be relatively easy to identify the 37 year old male from LA if you also happen to know (or figure out) that he has a poodle, is 5'6\", works at UCLA, and was at Griffith Park on Saturday, April 15th. "
   ]
  }
 ],
 "metadata": {
  "kernelspec": {
   "display_name": "Python 3",
   "language": "python",
   "name": "python3"
  },
  "language_info": {
   "codemirror_mode": {
    "name": "ipython",
    "version": 3
   },
   "file_extension": ".py",
   "mimetype": "text/x-python",
   "name": "python",
   "nbconvert_exporter": "python",
   "pygments_lexer": "ipython3",
   "version": "3.6.0"
  }
 },
 "nbformat": 4,
 "nbformat_minor": 2
}
